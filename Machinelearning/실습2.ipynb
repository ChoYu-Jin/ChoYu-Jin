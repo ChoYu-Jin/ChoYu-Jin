{
  "nbformat": 4,
  "nbformat_minor": 0,
  "metadata": {
    "colab": {
      "provenance": []
    },
    "kernelspec": {
      "name": "python3",
      "display_name": "Python 3"
    },
    "language_info": {
      "name": "python"
    }
  },
  "cells": [
    {
      "cell_type": "markdown",
      "source": [
        "## **도미 빙어들의 평균, 분산, 최소, 최대값 구하라**"
      ],
      "metadata": {
        "id": "Sp-8y5KwcvMv"
      }
    },
    {
      "cell_type": "code",
      "source": [
        "import pandas as pd\n",
        "from sklearn.preprocessing import MinMaxScaler\n",
        "\n",
        "# 주어진 데이터\n",
        "fish_length = [25.4, 26.3, 26.5, 29.0, 29.0, 29.7, 29.7, 30.0, 30.0, 30.7, 31.0, 31.0,\n",
        "                31.5, 32.0, 32.0, 32.0, 33.0, 33.0, 33.5, 33.5, 34.0, 34.0, 34.5, 35.0,\n",
        "                35.0, 35.0, 35.0, 36.0, 36.0, 37.0, 38.5, 38.5, 39.5, 41.0, 41.0, 9.8,\n",
        "                10.5, 10.6, 11.0, 11.2, 11.3, 11.8, 11.8, 12.0, 12.2, 12.4, 13.0, 14.3, 15.0]\n",
        "fish_weight = [242.0, 290.0, 340.0, 363.0, 430.0, 450.0, 500.0, 390.0, 450.0, 500.0, 475.0, 500.0,\n",
        "                500.0, 340.0, 600.0, 600.0, 700.0, 700.0, 610.0, 650.0, 575.0, 685.0, 620.0, 680.0,\n",
        "                700.0, 725.0, 720.0, 714.0, 850.0, 1000.0, 920.0, 955.0, 925.0, 975.0, 950.0, 6.7,\n",
        "                7.5, 7.0, 9.7, 9.8, 8.7, 10.0, 9.9, 9.8, 12.2, 13.4, 12.2, 19.7, 19.9]\n",
        "\n",
        "# DataFrame 생성\n",
        "fish_df = pd.DataFrame({'length': fish_length, 'weight': fish_weight})\n",
        "\n",
        "# MinMaxScaler 객체 생성\n",
        "scaler = MinMaxScaler()\n",
        "\n",
        "# MinMaxScaler로 데이터 셋 변환. fit()과 transform() 호출\n",
        "scaler.fit(fish_df)\n",
        "fish_scaled = scaler.transform(fish_df)\n",
        "\n",
        "# transform() 시 scale 변환된 데이터셋이 numpy ndarray로 반환되어 이를 DataFrame으로 변환\n",
        "fish_df_scaled = pd.DataFrame(data=fish_scaled, columns=['length', 'weight'])\n",
        "\n",
        "# 평균, 분산, 최소, 최대값 출력\n",
        "print('평균 값')\n",
        "print(fish_df_scaled.mean())\n",
        "print('\\n분산 값')\n",
        "print(fish_df_scaled.var())\n",
        "print('\\n최소 값')\n",
        "print(fish_df_scaled.min())\n",
        "print('\\n최대 값')\n",
        "print(fish_df_scaled.max())"
      ],
      "metadata": {
        "colab": {
          "base_uri": "https://localhost:8080/"
        },
        "id": "26AB_p0XeWWS",
        "outputId": "2ac8cb6c-2fbe-4202-9595-b2e24379f0ba"
      },
      "execution_count": null,
      "outputs": [
        {
          "output_type": "stream",
          "name": "stdout",
          "text": [
            "평균 값\n",
            "length    0.553048\n",
            "weight    0.440753\n",
            "dtype: float64\n",
            "\n",
            "분산 값\n",
            "length    0.107778\n",
            "weight    0.109135\n",
            "dtype: float64\n",
            "\n",
            "최소 값\n",
            "length    0.0\n",
            "weight    0.0\n",
            "dtype: float64\n",
            "\n",
            "최대 값\n",
            "length    1.0\n",
            "weight    1.0\n",
            "dtype: float64\n"
          ]
        }
      ]
    },
    {
      "cell_type": "markdown",
      "source": [
        "## **MinMaxScaler를 이용해서 도미 빙어를 분류**"
      ],
      "metadata": {
        "id": "upovKtQZgrgs"
      }
    },
    {
      "cell_type": "code",
      "source": [
        "from sklearn.preprocessing import MinMaxScaler\n",
        "from sklearn.neighbors import KNeighborsClassifier\n",
        "from sklearn.metrics import accuracy_score\n",
        "from sklearn.model_selection import train_test_split\n",
        "\n",
        "# 도미와 빙어 데이터\n",
        "fish_length = [25.4, 26.3, 26.5, 29.0, 29.0, 29.7, 29.7, 30.0, 30.0, 30.7, 31.0, 31.0,\n",
        "                31.5, 32.0, 32.0, 32.0, 33.0, 33.0, 33.5, 33.5, 34.0, 34.0, 34.5, 35.0,\n",
        "                35.0, 35.0, 35.0, 36.0, 36.0, 37.0, 38.5, 38.5, 39.5, 41.0, 41.0, 9.8,\n",
        "                10.5, 10.6, 11.0, 11.2, 11.3, 11.8, 11.8, 12.0, 12.2, 12.4, 13.0, 14.3, 15.0]\n",
        "fish_weight = [242.0, 290.0, 340.0, 363.0, 430.0, 450.0, 500.0, 390.0, 450.0, 500.0, 475.0, 500.0,\n",
        "                500.0, 340.0, 600.0, 600.0, 700.0, 700.0, 610.0, 650.0, 575.0, 685.0, 620.0, 680.0,\n",
        "                700.0, 725.0, 720.0, 714.0, 850.0, 1000.0, 920.0, 955.0, 925.0, 975.0, 950.0, 6.7,\n",
        "                7.5, 7.0, 9.7, 9.8, 8.7, 10.0, 9.9, 9.8, 12.2, 13.4, 12.2, 19.7, 19.9]\n",
        "\n",
        "# 클래스 레이블 (도미: 1, 빙어: 0)\n",
        "labels = [1] * 35 + [0] * 14\n",
        "\n",
        "# 데이터 스케일링 (MinMaxScaler 사용)\n",
        "scaler = MinMaxScaler()\n",
        "scaled_data = scaler.fit_transform([[length, weight] for length, weight in zip(fish_length, fish_weight)])\n",
        "\n",
        "# 훈련 데이터와 테스트 데이터로 분리\n",
        "train_data, test_data, train_labels, test_labels = train_test_split(scaled_data, labels, test_size=0.2, random_state=42)\n",
        "\n",
        "# K-최근접 이웃 분류기 객체 생성\n",
        "knn = KNeighborsClassifier(n_neighbors=3)\n",
        "\n",
        "# K-최근접 이웃 모델 훈련\n",
        "knn.fit(train_data, train_labels)\n",
        "\n",
        "# 예측 수행\n",
        "predictions = knn.predict(test_data)\n",
        "print(predictions)\n",
        "\n",
        "# 정확도 출력\n",
        "knn.score(test_data, test_labels)\n"
      ],
      "metadata": {
        "colab": {
          "base_uri": "https://localhost:8080/"
        },
        "id": "J65ToXpMgxL8",
        "outputId": "2fc2e0b0-323d-4f2d-d354-5dab046bcf7d"
      },
      "execution_count": null,
      "outputs": [
        {
          "output_type": "stream",
          "name": "stdout",
          "text": [
            "[1 0 0 0 1 1 1 1 1 1]\n"
          ]
        },
        {
          "output_type": "execute_result",
          "data": {
            "text/plain": [
              "1.0"
            ]
          },
          "metadata": {},
          "execution_count": 2
        }
      ]
    },
    {
      "cell_type": "markdown",
      "source": [
        "# **cross_val_score() 도미 빙어 데이터 평가**"
      ],
      "metadata": {
        "id": "hJnk2x2sh-Of"
      }
    },
    {
      "cell_type": "code",
      "source": [
        "import numpy as np\n",
        "from sklearn.neighbors import KNeighborsClassifier\n",
        "from sklearn.model_selection import cross_val_score\n",
        "\n",
        "# 도미와 빙어 데이터\n",
        "fish_length = [25.4, 26.3, 26.5, 29.0, 29.0, 29.7, 29.7, 30.0, 30.0, 30.7, 31.0, 31.0, 31.5, 32.0, 32.0, 32.0, 33.0, 33.0, 33.5, 33.5, 34.0, 34.0, 34.5, 35.0, 35.0, 35.0, 35.0, 36.0, 36.0, 37.0, 38.5, 38.5, 39.5, 41.0, 41.0, 9.8, 10.5, 10.6, 11.0, 11.2, 11.3, 11.8, 11.8, 12.0, 12.2, 12.4, 13.0, 14.3, 15.0]\n",
        "fish_weight = [242.0, 290.0, 340.0, 363.0, 430.0, 450.0, 500.0, 390.0, 450.0, 500.0, 475.0, 500.0, 500.0, 340.0, 600.0, 600.0, 700.0, 700.0, 610.0, 650.0, 575.0, 685.0, 620.0, 680.0, 700.0, 725.0, 720.0, 714.0, 850.0, 1000.0, 920.0, 955.0, 925.0, 975.0, 950.0, 6.7, 7.5, 7.0, 9.7, 9.8, 8.7, 10.0, 9.9, 9.8, 12.2, 13.4, 12.2, 19.7, 19.9]\n",
        "\n",
        "# 도미 빙어 레이블 생성 (도미: 1, 빙어: 0)\n",
        "labels = [1] * 35 + [0] * 14\n",
        "\n",
        "# 데이터와 레이블을 NumPy 배열로 변환\n",
        "fish_data = np.array(list(zip(fish_length, fish_weight)))\n",
        "labels = np.array(labels)\n",
        "\n",
        "# KNeighborsClassifier 객체 생성\n",
        "knn = KNeighborsClassifier(n_neighbors=3)\n",
        "\n",
        "# 교차 검증을 통한 모델 평가\n",
        "scores = cross_val_score(knn, fish_data, labels, cv=5, scoring='accuracy')\n",
        "print('교차 검증별 정확도:', np.round(scores, 4))\n",
        "print('평균 검증 정확도:', np.round(np.mean(scores), 4))\n"
      ],
      "metadata": {
        "colab": {
          "base_uri": "https://localhost:8080/"
        },
        "id": "jUK5jysuieTd",
        "outputId": "a71ef646-c112-4488-eed5-a840c169b9f1"
      },
      "execution_count": null,
      "outputs": [
        {
          "output_type": "stream",
          "name": "stdout",
          "text": [
            "교차 검증별 정확도: [1. 1. 1. 1. 1.]\n",
            "평균 검증 정확도: 1.0\n"
          ]
        }
      ]
    }
  ]
}