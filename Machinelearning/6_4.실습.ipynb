{
 "cells": [
  {
   "cell_type": "markdown",
   "id": "08f02bbc",
   "metadata": {},
   "source": [
    "# 주어진 와인 데이터를 로드하고, 'alcohol', 'sugar', 'pH' 특성을 사용하여 데이터를 분할하고 'class' 열을 타겟 데이터로 설정하십시오.\n"
   ]
  },
  {
   "cell_type": "code",
   "execution_count": null,
   "id": "09f7ef94",
   "metadata": {},
   "outputs": [],
   "source": [
    "import pandas as pd\n",
    "from sklearn.model_selection import train_test_split\n",
    "\n",
    "wine = pd.read_csv('https://bit.ly/wine_csv_data')\n"
   ]
  },
  {
   "cell_type": "markdown",
   "id": "6b337352",
   "metadata": {},
   "source": [
    "# 주어진 데이터를 훈련 세트와 테스트 세트로 나누세요. 훈련 세트와 테스트 세트의 크기는 각각 전체 데이터의 80%, 20%로 설정하고 random_state는 42로 고정하세요.\n"
   ]
  },
  {
   "cell_type": "code",
   "execution_count": null,
   "id": "f735aaac",
   "metadata": {},
   "outputs": [],
   "source": []
  },
  {
   "cell_type": "markdown",
   "id": "b416f8e3",
   "metadata": {},
   "source": [
    "# 랜덤포레스트 (RandomForestClassifier), 엑스트라트리 (ExtraTreesClassifier), 그레이디언트 부스팅 (GradientBoostingClassifier), 히스토그램 기반 부스팅 (HistGradientBoostingClassifier), XGBoost (XGBClassifier), LightGBM (LGBMClassifier)를 사용하여 모델을 훈련하고 테스트 세트에서의 정확도를 계산하세요.\n"
   ]
  },
  {
   "cell_type": "code",
   "execution_count": null,
   "id": "932c5a99",
   "metadata": {},
   "outputs": [],
   "source": []
  },
  {
   "cell_type": "markdown",
   "id": "8ba39f52",
   "metadata": {},
   "source": [
    "# 모든 모델 중 가장 높은 정확도를 가진 모델과 해당 모델에서 가장 중요한 특성을 식별하세요.\n"
   ]
  },
  {
   "cell_type": "code",
   "execution_count": null,
   "id": "635d0377",
   "metadata": {},
   "outputs": [],
   "source": []
  }
 ],
 "metadata": {
  "kernelspec": {
   "display_name": "Python 3 (ipykernel)",
   "language": "python",
   "name": "python3"
  },
  "language_info": {
   "codemirror_mode": {
    "name": "ipython",
    "version": 3
   },
   "file_extension": ".py",
   "mimetype": "text/x-python",
   "name": "python",
   "nbconvert_exporter": "python",
   "pygments_lexer": "ipython3",
   "version": "3.11.5"
  }
 },
 "nbformat": 4,
 "nbformat_minor": 5
}
