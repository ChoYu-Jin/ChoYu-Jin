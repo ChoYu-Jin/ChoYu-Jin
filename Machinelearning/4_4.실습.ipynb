{
 "cells": [
  {
   "cell_type": "markdown",
   "id": "df60f519",
   "metadata": {},
   "source": [
    "# 입력값(perch_full), 출력값( perch_weight)를 이용해서 릿지 최적 알파값을 구하라"
   ]
  },
  {
   "cell_type": "code",
   "execution_count": 1,
   "id": "deedb015",
   "metadata": {},
   "outputs": [
    {
     "name": "stdout",
     "output_type": "stream",
     "text": [
      "[[ 8.4   2.11]\n",
      " [13.7   3.53]\n",
      " [15.    3.82]\n",
      " [16.2   4.59]\n",
      " [17.4   4.59]\n",
      " [18.    5.22]\n",
      " [18.7   5.2 ]\n",
      " [19.    5.64]\n",
      " [19.6   5.14]\n",
      " [20.    5.08]\n",
      " [21.    5.69]\n",
      " [21.    5.92]\n",
      " [21.    5.69]\n",
      " [21.3   6.38]\n",
      " [22.    6.11]\n",
      " [22.    5.64]\n",
      " [22.    6.11]\n",
      " [22.    5.88]\n",
      " [22.    5.52]\n",
      " [22.5   5.86]\n",
      " [22.5   6.79]\n",
      " [22.7   5.95]\n",
      " [23.    5.22]\n",
      " [23.5   6.28]\n",
      " [24.    7.29]\n",
      " [24.    6.38]\n",
      " [24.6   6.73]\n",
      " [25.    6.44]\n",
      " [25.6   6.56]\n",
      " [26.5   7.17]\n",
      " [27.3   8.32]\n",
      " [27.5   7.17]\n",
      " [27.5   7.05]\n",
      " [27.5   7.28]\n",
      " [28.    7.82]\n",
      " [28.7   7.59]\n",
      " [30.    7.62]\n",
      " [32.8  10.03]\n",
      " [34.5  10.26]\n",
      " [35.   11.49]\n",
      " [36.5  10.88]\n",
      " [36.   10.61]\n",
      " [37.   10.84]\n",
      " [37.   10.57]\n",
      " [39.   11.14]\n",
      " [39.   11.14]\n",
      " [39.   12.43]\n",
      " [40.   11.93]\n",
      " [40.   11.73]\n",
      " [40.   12.38]\n",
      " [40.   11.14]\n",
      " [42.   12.8 ]\n",
      " [43.   11.93]\n",
      " [43.   12.51]\n",
      " [43.5  12.6 ]\n",
      " [44.   12.49]]\n"
     ]
    }
   ],
   "source": [
    "import pandas as pd\n",
    "df = pd.read_csv('https://bit.ly/perch_csv_data')\n",
    "perch_full = df.to_numpy()[:,:2]\n",
    "print(perch_full)"
   ]
  },
  {
   "cell_type": "code",
   "execution_count": 2,
   "id": "9663860d",
   "metadata": {},
   "outputs": [],
   "source": [
    "import numpy as np\n",
    "\n",
    "perch_weight = np.array(\n",
    "    [5.9, 32.0, 40.0, 51.5, 70.0, 100.0, 78.0, 80.0, 85.0, 85.0,\n",
    "     110.0, 115.0, 125.0, 130.0, 120.0, 120.0, 130.0, 135.0, 110.0,\n",
    "     130.0, 150.0, 145.0, 150.0, 170.0, 225.0, 145.0, 188.0, 180.0,\n",
    "     197.0, 218.0, 300.0, 260.0, 265.0, 250.0, 250.0, 300.0, 320.0,\n",
    "     514.0, 556.0, 840.0, 685.0, 700.0, 700.0, 690.0, 900.0, 650.0,\n",
    "     820.0, 850.0, 900.0, 1015.0, 820.0, 1100.0, 1000.0, 1100.0,\n",
    "     1000.0, 1000.0]\n",
    "     )"
   ]
  },
  {
   "cell_type": "markdown",
   "id": "3de85d21",
   "metadata": {},
   "source": [
    "# 훈련/ 테스트데이터로 분할"
   ]
  },
  {
   "cell_type": "code",
   "execution_count": 3,
   "id": "e40c3411",
   "metadata": {},
   "outputs": [],
   "source": [
    "from sklearn.model_selection import train_test_split\n",
    "\n",
    "#"
   ]
  },
  {
   "cell_type": "markdown",
   "id": "4e4d71c6",
   "metadata": {},
   "source": [
    "# StandardScaler으로 전처리 진행하여 train_scaled, test_scaled 생성"
   ]
  },
  {
   "cell_type": "code",
   "execution_count": 4,
   "id": "e7812300",
   "metadata": {},
   "outputs": [],
   "source": [
    "from sklearn.preprocessing import StandardScaler\n",
    "\n",
    "ss = StandardScaler()\n",
    "#\n",
    "#\n",
    "#"
   ]
  },
  {
   "cell_type": "markdown",
   "id": "d71cc8d5",
   "metadata": {},
   "source": [
    "# 릿지 rain_scaled, train_target 스코어 내기"
   ]
  },
  {
   "cell_type": "code",
   "execution_count": null,
   "id": "33d4039a",
   "metadata": {},
   "outputs": [],
   "source": [
    "from sklearn.linear_model import Ridge\n",
    "\n",
    "#\n",
    "#\n",
    "#\n",
    "#"
   ]
  },
  {
   "cell_type": "code",
   "execution_count": 7,
   "id": "d222b635",
   "metadata": {},
   "outputs": [],
   "source": [
    "import matplotlib.pyplot as plt\n",
    "\n",
    "train_score = []\n",
    "test_score = []"
   ]
  },
  {
   "cell_type": "markdown",
   "id": "35b43d0c",
   "metadata": {},
   "source": [
    "# Alpha 값 plot하기 [0.001, 0.01, 0.1, 1, 10, 100], train_score.append 생성"
   ]
  },
  {
   "cell_type": "code",
   "execution_count": 8,
   "id": "68cd60e8",
   "metadata": {},
   "outputs": [],
   "source": [
    "alpha_list = [0.001, 0.01, 0.1, 1, 10, 100]\n",
    "for alpha in alpha_list:\n",
    "    # 릿지 모델을 만듭니다\n",
    "    # 릿지 모델을 훈련합니다\n",
    "    # 훈련 점수와 테스트 점수를 저장합니다"
   ]
  },
  {
   "cell_type": "markdown",
   "id": "bd0b30b6",
   "metadata": {},
   "source": [
    "# Alpha 값 plot하기"
   ]
  },
  {
   "cell_type": "code",
   "execution_count": 9,
   "id": "f2a6e55e",
   "metadata": {
    "scrolled": false
   },
   "outputs": [
    {
     "data": {
      "image/png": "[encoded data removed]",
      "text/plain": [
       "<Figure size 640x480 with 1 Axes>"
      ]
     },
     "metadata": {},
     "output_type": "display_data"
    }
   ],
   "source": [
    "plt.plot(np.log10(alpha_list), train_score)\n",
    "plt.plot(np.log10(alpha_list), test_score)\n",
    "plt.xlabel('alpha')\n",
    "plt.ylabel('R^2')\n",
    "plt.show()"
   ]
  },
  {
   "cell_type": "markdown",
   "id": "43f094da",
   "metadata": {},
   "source": [
    "# 최적의 Alpha값을 이용해서 score 계산"
   ]
  },
  {
   "cell_type": "code",
   "execution_count": null,
   "id": "efbe8d28",
   "metadata": {},
   "outputs": [],
   "source": [
    "ridge = Ridge(alpha=????) #최적값\n",
    "ridge.fit(train_scaled, train_target)\n",
    "\n",
    "print(ridge.score(train_scaled, train_target))\n",
    "print(ridge.score(test_scaled, test_target))"
   ]
  },
  {
   "cell_type": "code",
   "execution_count": null,
   "id": "2af3b365",
   "metadata": {},
   "outputs": [],
   "source": []
  }
 ],
 "metadata": {
  "kernelspec": {
   "display_name": "Python 3",
   "language": "python",
   "name": "python3"
  },
  "language_info": {
   "codemirror_mode": {
    "name": "ipython",
    "version": 3
   },
   "file_extension": ".py",
   "mimetype": "text/x-python",
   "name": "python",
   "nbconvert_exporter": "python",
   "pygments_lexer": "ipython3",
   "version": "3.8.8"
  },
  "varInspector": {
   "cols": {
    "lenName": 16,
    "lenType": 16,
    "lenVar": 40
   },
   "kernels_config": {
    "python": {
     "delete_cmd_postfix": "",
     "delete_cmd_prefix": "del ",
     "library": "var_list.py",
     "varRefreshCmd": "print(var_dic_list())"
    },
    "r": {
     "delete_cmd_postfix": ") ",
     "delete_cmd_prefix": "rm(",
     "library": "var_list.r",
     "varRefreshCmd": "cat(var_dic_list()) "
    }
   },
   "types_to_exclude": [
    "module",
    "function",
    "builtin_function_or_method",
    "instance",
    "_Feature"
   ],
   "window_display": true
  }
 },
 "nbformat": 4,
 "nbformat_minor": 5
}
